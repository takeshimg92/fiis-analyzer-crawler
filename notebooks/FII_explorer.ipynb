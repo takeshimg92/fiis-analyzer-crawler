{
 "cells": [
  {
   "cell_type": "markdown",
   "metadata": {},
   "source": [
    "# Explorador de fundos imobiliários\n",
    "\n",
    "Constrói tabela contendo diversos fundos e gera score para avaliar diferentes características (dividend yield, P/VP etc)."
   ]
  },
  {
   "cell_type": "code",
   "execution_count": 5,
   "metadata": {},
   "outputs": [],
   "source": [
    "import numpy as np\n",
    "import warnings\n",
    "\n",
    "warnings.simplefilter(action='ignore', category=FutureWarning)\n",
    "\n",
    "import pandas as pd\n",
    "pd.options.display.max_columns = None\n",
    "pd.options.mode.chained_assignment = None  # default='warn'\n",
    "\n",
    "from selenium.webdriver.common.by import By\n",
    "from selenium.webdriver.support.wait import WebDriverWait\n",
    "from selenium.webdriver.support import expected_conditions as EC\n",
    "\n",
    "import locale\n",
    "locale.setlocale(locale.LC_ALL, 'pt_BR.UTF-8')\n",
    "\n",
    "\n",
    "def create_driver(debugging=False):\n",
    "    from selenium import webdriver\n",
    "    from selenium.webdriver.chrome.service import Service as ChromeService\n",
    "    from selenium.webdriver.chrome.options import Options\n",
    "    from webdriver_manager.chrome import ChromeDriverManager\n",
    "\n",
    "    chrome_options = Options()\n",
    "    if not debugging:\n",
    "        chrome_options.add_argument(\"start-maximized\")\n",
    "        chrome_options.add_argument(\"--no-sandbox\")\n",
    "        chrome_options.add_argument(\"--headless\")\n",
    "\n",
    "    return webdriver.Chrome(service=ChromeService(ChromeDriverManager().install()), options=chrome_options)\n"
   ]
  },
  {
   "cell_type": "code",
   "execution_count": 42,
   "metadata": {},
   "outputs": [],
   "source": [
    "def read_raw_fiis_table(debug=False):\n",
    "    \n",
    "    print(\"Running crawler (takes about 1 minute)\")\n",
    "    \n",
    "    from time import sleep\n",
    "    try:\n",
    "        print(\"Creating Selenium driver...\")\n",
    "        driver = create_driver(debugging=debug)\n",
    "        \n",
    "        print(\"Accessing page...\")\n",
    "        driver.get('https://www.fundsexplorer.com.br/ranking')\n",
    "        WebDriverWait(driver, 10).until(EC.presence_of_element_located((By.XPATH, \"//div[@id='colunas-ranking__select-button']\")))\n",
    "\n",
    "        print(\"Ensuring all columns are available...\")\n",
    "        driver.execute_script(\"window.scrollTo(0, 200)\")\n",
    "        driver.find_element(By.XPATH, \"//div[@id='colunas-ranking__select-button']\").click() # open drop-down menu\n",
    "        \n",
    "        WebDriverWait(driver, 10).until(EC.presence_of_element_located((By.XPATH, \"//label[@for='colunas-ranking__todos']\")))\n",
    "        driver.find_element(By.XPATH, \"//label[@for='colunas-ranking__todos']\").click() # makes all columns available\n",
    "        sleep(5)\n",
    "        \n",
    "        print(\"Table found. Loading...\")\n",
    "        table = driver.find_element(By.CLASS_NAME, 'default-fiis-table__container')\n",
    "        df = pd.read_html('<table>' + table.get_attribute('outerHTML') + '</table>')[0]\n",
    "        return df\n",
    "\n",
    "    finally: \n",
    "        print(\"Quitting driver...\")\n",
    "        driver.quit()\n",
    "\n",
    "\n",
    "def process_money(x, normalize_fractions=True):\n",
    "    try:\n",
    "        y = locale.atof(str(x))\n",
    "        if (',' not in str(x)) and normalize_fractions:\n",
    "            y = y/100\n",
    "        return y\n",
    "    except ValueError:\n",
    "        return np.nan\n",
    "\n",
    "def process_fiis_table(fiis, normalize_fractions=True):\n",
    "    fiis = fiis.dropna(axis=1, how='all') # remove columns which are full NA\n",
    "    fiis.columns = fiis.columns.str.strip().str.replace(' ', '_').\\\n",
    "        str.lower().\\\n",
    "        str.normalize('NFKD').\\\n",
    "        str.encode('ascii', errors='ignore').str.decode('utf-8')\n",
    "\n",
    "    fiis = fiis.dropna(subset=['preco_atual_(r$)', 'liquidez_diaria_(r$)', 'p/vp', 'p/vpa', 'ultimo_dividendo', 'dividend_yield']) # I don't care fore weird funds which are either too new or too complex\n",
    "\n",
    "    money_columns = [ 'liquidez_diaria_(r$)', 'p/vp', 'p/vpa', 'volatilidade']\n",
    "\n",
    "    percent_columns = ['dividend_yield', 'dy_(3m)_acumulado',\n",
    "        'dy_(6m)_acumulado', 'dy_(12m)_acumulado', 'dy_(3m)_media',\n",
    "        'dy_(6m)_media', 'dy_(12m)_media', 'dy_ano', 'variacao_preco',\n",
    "        'rentab._periodo', 'rentab._acumulada', 'dy_patrimonial', 'variacao_patrimonial',\n",
    "        'rentab._patr._periodo', 'rentab._patr._acumulada']\n",
    "\n",
    "    number_cols = ['num._cotistas', 'preco_atual_(r$)', 'ultimo_dividendo', 'patrimonio_liquido', 'vpa']\n",
    "\n",
    "    for col in percent_columns:\n",
    "        fiis[col] = fiis[col].str.split(' %').str[0].apply(process_money) \n",
    "\n",
    "    for col in number_cols:\n",
    "        fiis[col] = fiis[col].apply(lambda x: process_money(x, normalize_fractions=False))\n",
    "\n",
    "    for col in money_columns:\n",
    "        fiis[col] = fiis[col].apply(process_money)\n",
    "\n",
    "    fiis['p/vpa'] = fiis['p/vpa']/10.0\n",
    "    fiis['preco_atual_(r$)'] = fiis['preco_atual_(r$)']/100.0\n",
    "    fiis['vpa'] = fiis['vpa']/100.0\n",
    "\n",
    "    return fiis \n",
    "\n",
    "\n",
    "def get_vacancies():\n",
    "    import requests\n",
    "    url = 'https://www.meusdividendos.com/fundos-imobiliarios/vacancias'\n",
    "    response = requests.get(url)\n",
    "    html_content = response.text\n",
    "    df =  pd.read_html(html_content, attrs={'id': 'tabela-fundos'})[0]\n",
    "    df['fundos'] = df['Fundo'] + '11'\n",
    "    df = df.drop(['Fundo', '#'], axis=1)\n",
    "    df.columns =  df.columns.str.lower().\\\n",
    "        str.normalize('NFKD').\\\n",
    "        str.encode('ascii', errors='ignore').str.decode('utf-8')\n",
    "    return df\n",
    "\n",
    "\n",
    "def filter_per_quantile(df, column, percentile, keep='larger'):\n",
    "    assert keep in ('larger', 'smaller')\n",
    "    q = df[column].quantile(percentile)\n",
    "    match keep:\n",
    "        case 'larger':\n",
    "            return df[df[column] >= q]\n",
    "        case 'smaller':\n",
    "            return df[df[column] <= q]\n",
    "        case _:\n",
    "            raise"
   ]
  },
  {
   "cell_type": "code",
   "execution_count": 8,
   "metadata": {},
   "outputs": [
    {
     "name": "stdout",
     "output_type": "stream",
     "text": [
      "Running crawler (takes about 1 minute)\n",
      "Creating Selenium driver...\n",
      "Accessing page...\n",
      "Ensuring all columns are available...\n",
      "Table found. Loading...\n",
      "Quitting driver...\n"
     ]
    }
   ],
   "source": [
    "df = read_raw_fiis_table(debug=False)\n",
    "vac = get_vacancies() # since a few years back, fundsexplorer doesn't provide vacancy information anymore"
   ]
  },
  {
   "cell_type": "markdown",
   "metadata": {},
   "source": [
    "A referência [aqui](https://gist.github.com/dmenezesgabriel/b2bf3eb049d48d1315d83db9e5fcad36) usa como critérios:\n",
    "* 0.0 < P/VPA < 1.1\n",
    "* Vacância (física) < 0.1 ou nula --> nota: a que temos aqui, do site meusdividendos, é vacância financeira ie inadimplência\n",
    "* Quantidade de ativos > 5 para os setores de shoppings, lajes corporativas e logistica\n",
    "* Líquidez diária acima de 20k\n",
    "* Dividend Yield acumulado acima de 5% "
   ]
  },
  {
   "cell_type": "markdown",
   "metadata": {},
   "source": [
    "Vamos fazer algo semelhante; veja abaixo."
   ]
  },
  {
   "cell_type": "code",
   "execution_count": 83,
   "metadata": {},
   "outputs": [],
   "source": [
    "setores_to_keep = ['Indefinido', 'Papéis', \n",
    "       'Fundo de Fundos', 'Misto', 'Imóveis Residenciais',\n",
    "       'Imóveis Industriais e Logísticos', 'Agências de Bancos',\n",
    "       'Imóveis Comerciais - Outros', 'Varejo']"
   ]
  },
  {
   "cell_type": "code",
   "execution_count": 122,
   "metadata": {},
   "outputs": [
    {
     "name": "stdout",
     "output_type": "stream",
     "text": [
      "269\n",
      "20\n"
     ]
    }
   ],
   "source": [
    "# processa e limpa, e inclui vacancias\n",
    "fiis = process_fiis_table(df)\n",
    "fiis = fiis.merge(vac, on='fundos', how='left')\n",
    "\n",
    "# basic cleanup -- CHOOSE WHATEVER FILTERS YOU LIKE\n",
    "fiis = fiis[fiis['patrimonio_liquido']>0]\n",
    "fiis = fiis[fiis['p/vp'] < 10] # remove outliers\n",
    "fiis = fiis[fiis['num._cotistas'] > 0]\n",
    "fiis = fiis[fiis['dy_(12m)_media'] > 0] # keep funds which are at least 1 year old\n",
    "print(len(fiis))\n",
    "\n",
    "# investment choices -- CHOOSE WHATEVER FILTERS YOU LIKE\n",
    "fiis = fiis[fiis['setor'].isin(setores_to_keep)] # lower-risk\n",
    "fiis = fiis[(fiis['vacancia'] < 0.25) | fiis['vacancia'].isna()] # lower-risk\n",
    "fiis = fiis[(fiis['p/vpa']>=0.9) & (fiis['p/vpa'] < 1.1)] # reasonable prices\n",
    "fiis = filter_per_quantile(fiis, 'patrimonio_liquido',   0.25, keep='larger') # preferir patrimonio liquido razoavel\n",
    "fiis = filter_per_quantile(fiis, 'dy_(12m)_acumulado',   0.50, keep='larger') # preferir performance alta historica\n",
    "fiis = filter_per_quantile(fiis, 'num._cotistas',        0.25, keep='larger') # preferir numero razoavel de cotistas\n",
    "fiis = filter_per_quantile(fiis, 'liquidez_diaria_(r$)', 0.25, keep='larger') # preferir alta liquidez\n",
    "fiis = filter_per_quantile(fiis, 'volatilidade', 0.8, keep='smaller') # manter volatilidade relativamente baixa\n",
    "print(len(fiis))"
   ]
  },
  {
   "cell_type": "markdown",
   "metadata": {},
   "source": [
    "Meu approach será de construir um score, tal que:\n",
    "* DY's altos empurram o score para cima\n",
    "* Volatilidades altas empurram o score para baixo\n",
    "* P/VPA é exponencialmente melhor para valores menores que 1\n",
    "\n",
    "Equação:\n",
    "\n",
    "$$s = \\alpha\\; p_\\mathrm{DY\\;12} + \\beta (1-p_\\mathrm{vol}) + \\gamma \\sigma(20(1- \\mathrm{p/vpa}))$$\n",
    "\n",
    "onde $\\sigma(x) = 1/(1+\\exp(-x))$ é a sigmoide.\n",
    "\n",
    "Os hiperparâmetros $\\alpha,\\beta,\\gamma$ devem ser tais que $\\alpha+\\beta+\\gamma = 100$; isso garante um score entre 0 e 100."
   ]
  },
  {
   "cell_type": "code",
   "execution_count": 125,
   "metadata": {},
   "outputs": [],
   "source": [
    "from scipy.special import expit as sigmoid\n",
    "\n",
    "fiis['p_dy'] = fiis['dy_(12m)_acumulado'].rank(pct=True)\n",
    "fiis['p_vol'] = fiis['volatilidade'].rank(pct=True)\n",
    "fiis['sig'] = sigmoid(20*(1-fiis['p/vpa']))\n",
    "\n",
    "a, b, c = 50, 15, 35 \n",
    "fiis['score'] = (a*fiis['p_dy'] + b*(1-fiis['p_vol']) + c*fiis['sig']).astype(int)"
   ]
  },
  {
   "cell_type": "code",
   "execution_count": 132,
   "metadata": {},
   "outputs": [],
   "source": [
    "date = pd.to_datetime('now').strftime('%Y-%m-%d')\n",
    "\n",
    "fiis.sort_values('score', ascending=False).to_excel(f\"fundos_imobiliarios_{date}.xlsx\", index=False)"
   ]
  }
 ],
 "metadata": {
  "kernelspec": {
   "display_name": "base",
   "language": "python",
   "name": "python3"
  },
  "language_info": {
   "codemirror_mode": {
    "name": "ipython",
    "version": 3
   },
   "file_extension": ".py",
   "mimetype": "text/x-python",
   "name": "python",
   "nbconvert_exporter": "python",
   "pygments_lexer": "ipython3",
   "version": "3.10.11"
  }
 },
 "nbformat": 4,
 "nbformat_minor": 2
}
